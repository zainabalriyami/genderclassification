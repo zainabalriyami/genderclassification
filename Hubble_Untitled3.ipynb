{
  "nbformat": 4,
  "nbformat_minor": 0,
  "metadata": {
    "colab": {
      "provenance": [],
      "authorship_tag": "ABX9TyPbsh4wvMfFZUyxCzjwqVSB",
      "include_colab_link": true
    },
    "kernelspec": {
      "name": "python3",
      "display_name": "Python 3"
    },
    "language_info": {
      "name": "python"
    }
  },
  "cells": [
    {
      "cell_type": "markdown",
      "metadata": {
        "id": "view-in-github",
        "colab_type": "text"
      },
      "source": [
        "<a href=\"https://colab.research.google.com/github/zainabalriyami/genderclassification/blob/main/Hubble_Untitled3.ipynb\" target=\"_parent\"><img src=\"https://colab.research.google.com/assets/colab-badge.svg\" alt=\"Open In Colab\"/></a>"
      ]
    },
    {
      "cell_type": "code",
      "execution_count": 2,
      "metadata": {
        "id": "gSAOp-X6NH2W"
      },
      "outputs": [],
      "source": [
        "import os\n",
        "\n",
        "os.environ['KAGGLE_USERNAME'] = 'zainabalriyami1'\n",
        "os.environ['KAGGLE_KEY'] = '0074b8f87805b3d9f4911eb05a55f344'"
      ]
    },
    {
      "cell_type": "code",
      "source": [
        "!kaggle datasets download -d gpiosenka/gender-classification-from-an-image"
      ],
      "metadata": {
        "colab": {
          "base_uri": "https://localhost:8080/"
        },
        "id": "fPhH8mBiNmVQ",
        "outputId": "f4903ecd-368c-44e8-e1f6-22001341ae01"
      },
      "execution_count": 22,
      "outputs": [
        {
          "output_type": "stream",
          "name": "stdout",
          "text": [
            "Downloading gender-classification-from-an-image.zip to /content\n",
            " 97% 167M/172M [00:01<00:00, 135MB/s]\n",
            "100% 172M/172M [00:02<00:00, 88.8MB/s]\n"
          ]
        }
      ]
    },
    {
      "cell_type": "code",
      "source": [
        "import zipfile\n",
        "zip_ref = zipfile.ZipFile(r'/content/gender-classification-from-an-image.zip')\n",
        "zip_ref.extractall(r'/content')\n",
        "zip_ref.close()"
      ],
      "metadata": {
        "id": "7qPY1jLBN3r_"
      },
      "execution_count": 23,
      "outputs": []
    },
    {
      "cell_type": "code",
      "source": [
        "import tensorflow as tf \n",
        "from tensorflow import keras\n",
        "from keras.layers import Dense,Conv2D,MaxPooling2D,Flatten,BatchNormalization,Dropout"
      ],
      "metadata": {
        "id": "74JE4C62OTYL"
      },
      "execution_count": 53,
      "outputs": []
    },
    {
      "cell_type": "code",
      "source": [
        "train_ds = keras.utils.image_dataset_from_directory(\n",
        "    directory = '/content/gender/test', \n",
        "    labels='inferred', \n",
        "    label_mode = 'int',\n",
        "    batch_size=32,\n",
        "    image_size=(256,256)  )"
      ],
      "metadata": {
        "colab": {
          "base_uri": "https://localhost:8080/"
        },
        "id": "aDIKGrohOdCn",
        "outputId": "99e7ddc7-6971-426c-90d5-b1bc384c0478"
      },
      "execution_count": 54,
      "outputs": [
        {
          "output_type": "stream",
          "name": "stdout",
          "text": [
            "Found 200 files belonging to 2 classes.\n"
          ]
        }
      ]
    },
    {
      "cell_type": "code",
      "source": [
        "validation_ds = keras.utils.image_dataset_from_directory(\n",
        "    directory = '/content/gender/test',\n",
        "    labels='inferred',\n",
        "    label_mode = 'int',\n",
        "    batch_size=32,\n",
        "    image_size=(256,256)\n",
        ")"
      ],
      "metadata": {
        "colab": {
          "base_uri": "https://localhost:8080/"
        },
        "id": "f94wIX61OpRm",
        "outputId": "2333aa5a-4e69-4cac-8d09-9558b6c28c70"
      },
      "execution_count": 55,
      "outputs": [
        {
          "output_type": "stream",
          "name": "stdout",
          "text": [
            "Found 200 files belonging to 2 classes.\n"
          ]
        }
      ]
    },
    {
      "cell_type": "code",
      "source": [
        "def process(image,label):\n",
        "    image = tf.cast(image/255. ,tf.float32)\n",
        "    return image,label"
      ],
      "metadata": {
        "id": "sGjPb9bGOpVB"
      },
      "execution_count": 56,
      "outputs": []
    },
    {
      "cell_type": "code",
      "source": [
        "train_ds = train_ds.map(process) \n",
        "validation_ds = validation_ds.map(process)"
      ],
      "metadata": {
        "id": "nisZTvj7O6wF"
      },
      "execution_count": 57,
      "outputs": []
    },
    {
      "cell_type": "code",
      "source": [
        "from keras.models import Sequential\n",
        "from keras.layers import Dense\n",
        "\n",
        "model = Sequential()"
      ],
      "metadata": {
        "id": "MKe93YxzO_l8"
      },
      "execution_count": 58,
      "outputs": []
    },
    {
      "cell_type": "code",
      "source": [
        "model.add(Conv2D(32,kernel_size=(3,3),padding='valid',activation='relu',input_shape=(256,256,3)))\n",
        "model.add(BatchNormalization())  # added to reduce overfitting\n",
        "model.add(MaxPooling2D(pool_size=(2,2),strides=2,padding='valid'))"
      ],
      "metadata": {
        "id": "J2IZR4nePt1F"
      },
      "execution_count": 59,
      "outputs": []
    },
    {
      "cell_type": "code",
      "source": [
        "model.add(Conv2D(64,kernel_size=(3,3),padding='valid',activation='relu',input_shape=(256,256,3)))\n",
        "model.add(BatchNormalization())  # added to reduce overfitting\n",
        "model.add(MaxPooling2D(pool_size=(2,2),strides=2,padding='valid'))"
      ],
      "metadata": {
        "id": "rNQm3aXvQhE8"
      },
      "execution_count": 60,
      "outputs": []
    },
    {
      "cell_type": "code",
      "source": [
        "model.add(Conv2D(128,kernel_size=(3,3),padding='valid',activation='relu',input_shape=(256,256,3)))\n",
        "model.add(BatchNormalization())  # added to reduce overfitting\n",
        "model.add(MaxPooling2D(pool_size=(2,2),strides=2,padding='valid'))"
      ],
      "metadata": {
        "id": "Xbm-bhYrQ3cB"
      },
      "execution_count": 31,
      "outputs": []
    },
    {
      "cell_type": "code",
      "source": [
        "model.add(Flatten())"
      ],
      "metadata": {
        "id": "cDHxwIelRAIU"
      },
      "execution_count": 32,
      "outputs": []
    },
    {
      "cell_type": "code",
      "source": [
        "model.add(Dense(128,activation='relu'))\n",
        "model.add(Dropout(0.1))  # added to reduce overfitting\n",
        "model.add(Dense(64,activation='relu'))\n",
        "model.add(Dropout(0.1))  # added to reduce overfitting\n",
        "model.add(Dense(1,activation='sigmoid'))  "
      ],
      "metadata": {
        "id": "0u7yLEHoRNj3"
      },
      "execution_count": 61,
      "outputs": []
    },
    {
      "cell_type": "code",
      "source": [
        "model.compile(optimizer='adam',loss='binary_crossentropy',metrics=['accuracy']) #binary_crossentropy - binary classification\n"
      ],
      "metadata": {
        "id": "R0KDE-sHRT1w"
      },
      "execution_count": 35,
      "outputs": []
    },
    {
      "cell_type": "code",
      "source": [
        "model.summary()\n"
      ],
      "metadata": {
        "colab": {
          "base_uri": "https://localhost:8080/"
        },
        "id": "oF9sphOYRbC2",
        "outputId": "a2120523-66d8-432f-c473-004c43c33a18"
      },
      "execution_count": 36,
      "outputs": [
        {
          "output_type": "stream",
          "name": "stdout",
          "text": [
            "Model: \"sequential_1\"\n",
            "_________________________________________________________________\n",
            " Layer (type)                Output Shape              Param #   \n",
            "=================================================================\n",
            " conv2d_3 (Conv2D)           (None, 254, 254, 32)      896       \n",
            "                                                                 \n",
            " max_pooling2d_3 (MaxPooling  (None, 127, 127, 32)     0         \n",
            " 2D)                                                             \n",
            "                                                                 \n",
            " conv2d_4 (Conv2D)           (None, 125, 125, 64)      18496     \n",
            "                                                                 \n",
            " max_pooling2d_4 (MaxPooling  (None, 62, 62, 64)       0         \n",
            " 2D)                                                             \n",
            "                                                                 \n",
            " conv2d_5 (Conv2D)           (None, 60, 60, 128)       73856     \n",
            "                                                                 \n",
            " max_pooling2d_5 (MaxPooling  (None, 30, 30, 128)      0         \n",
            " 2D)                                                             \n",
            "                                                                 \n",
            " flatten_1 (Flatten)         (None, 115200)            0         \n",
            "                                                                 \n",
            " dense_3 (Dense)             (None, 128)               14745728  \n",
            "                                                                 \n",
            " dense_4 (Dense)             (None, 64)                8256      \n",
            "                                                                 \n",
            " dense_5 (Dense)             (None, 1)                 65        \n",
            "                                                                 \n",
            " dense_6 (Dense)             (None, 128)               256       \n",
            "                                                                 \n",
            " dense_7 (Dense)             (None, 64)                8256      \n",
            "                                                                 \n",
            " dense_8 (Dense)             (None, 1)                 65        \n",
            "                                                                 \n",
            "=================================================================\n",
            "Total params: 14,855,874\n",
            "Trainable params: 14,855,874\n",
            "Non-trainable params: 0\n",
            "_________________________________________________________________\n"
          ]
        }
      ]
    },
    {
      "cell_type": "code",
      "source": [
        "model.compile(optimizer='adam',loss='binary_crossentropy',metrics='accuracy')"
      ],
      "metadata": {
        "id": "Dmw1x8iEs4NF"
      },
      "execution_count": 37,
      "outputs": []
    },
    {
      "cell_type": "code",
      "source": [
        "from keras.callbacks import History\n",
        "History=model.fit(train_ds,epochs=10,validation_data=validation_ds)"
      ],
      "metadata": {
        "colab": {
          "base_uri": "https://localhost:8080/"
        },
        "id": "vgClKPv5uEhR",
        "outputId": "d8c588b0-8c6b-4b50-f8fc-8539e8d4de32"
      },
      "execution_count": 39,
      "outputs": [
        {
          "output_type": "stream",
          "name": "stdout",
          "text": [
            "Epoch 1/10\n",
            "7/7 [==============================] - 56s 8s/step - loss: 0.6946 - accuracy: 0.5000 - val_loss: 0.6932 - val_accuracy: 0.5000\n",
            "Epoch 2/10\n",
            "7/7 [==============================] - 45s 6s/step - loss: 0.6936 - accuracy: 0.5000 - val_loss: 0.6935 - val_accuracy: 0.5000\n",
            "Epoch 3/10\n",
            "7/7 [==============================] - 42s 6s/step - loss: 0.6944 - accuracy: 0.5000 - val_loss: 0.6936 - val_accuracy: 0.5000\n",
            "Epoch 4/10\n",
            "7/7 [==============================] - 42s 6s/step - loss: 0.6939 - accuracy: 0.5000 - val_loss: 0.6935 - val_accuracy: 0.5000\n",
            "Epoch 5/10\n",
            "7/7 [==============================] - 43s 6s/step - loss: 0.6938 - accuracy: 0.5000 - val_loss: 0.6932 - val_accuracy: 0.5000\n",
            "Epoch 6/10\n",
            "7/7 [==============================] - 42s 6s/step - loss: 0.6940 - accuracy: 0.5000 - val_loss: 0.6933 - val_accuracy: 0.5000\n",
            "Epoch 7/10\n",
            "7/7 [==============================] - 40s 6s/step - loss: 0.6930 - accuracy: 0.5500 - val_loss: 0.6932 - val_accuracy: 0.5000\n",
            "Epoch 8/10\n",
            "7/7 [==============================] - 44s 6s/step - loss: 0.6933 - accuracy: 0.5000 - val_loss: 0.6933 - val_accuracy: 0.5000\n",
            "Epoch 9/10\n",
            "7/7 [==============================] - 43s 6s/step - loss: 0.6933 - accuracy: 0.5000 - val_loss: 0.6933 - val_accuracy: 0.5000\n",
            "Epoch 10/10\n",
            "7/7 [==============================] - 57s 9s/step - loss: 0.6934 - accuracy: 0.5000 - val_loss: 0.6933 - val_accuracy: 0.5000\n"
          ]
        }
      ]
    },
    {
      "cell_type": "code",
      "source": [
        "import matplotlib.pyplot as plt"
      ],
      "metadata": {
        "id": "6aW5xW_Qjxy-"
      },
      "execution_count": 49,
      "outputs": []
    },
    {
      "cell_type": "code",
      "source": [
        "plt.plot(History.history['accuracy'],color='red',label='train')\n",
        "plt.plot(History.history['val_accuracy'],color='blue',label='validation')\n",
        "plt.legend()\n",
        "plt.show()\n",
        "\n",
        "\n",
        "plt.plot(History.history['loss'],color='red',label='train')\n",
        "plt.plot(History.history['val_loss'],color='blue',label='validation')\n",
        "plt.legend()\n",
        "plt.show()"
      ],
      "metadata": {
        "colab": {
          "base_uri": "https://localhost:8080/",
          "height": 843
        },
        "id": "hzG0wD78kUx8",
        "outputId": "a5b6e6cd-4bfe-4b0f-c5a2-5b50a29ea63c"
      },
      "execution_count": 51,
      "outputs": [
        {
          "output_type": "display_data",
          "data": {
            "text/plain": [
              "<Figure size 640x480 with 1 Axes>"
            ],
            "image/png": "[encoded data removed]"
          },
          "metadata": {}
        },
        {
          "output_type": "display_data",
          "data": {
            "text/plain": [
              "<Figure size 640x480 with 1 Axes>"
            ],
            "image/png": "[encoded data removed]"
          },
          "metadata": {}
        }
      ]
    },
    {
      "cell_type": "code",
      "source": [
        "import cv2"
      ],
      "metadata": {
        "id": "yoc5AUV5oGcu"
      },
      "execution_count": 62,
      "outputs": []
    },
    {
      "cell_type": "code",
      "source": [
        "from IPython.testing import test\n",
        "test_img = cv2.imread('/content/gender/test/female/003.jpg')"
      ],
      "metadata": {
        "id": "ae0YAosipgat"
      },
      "execution_count": 63,
      "outputs": []
    },
    {
      "cell_type": "code",
      "source": [
        "plt.imshow(test_img)"
      ],
      "metadata": {
        "colab": {
          "base_uri": "https://localhost:8080/",
          "height": 451
        },
        "id": "EwioWcbTqDVG",
        "outputId": "c1338b87-ee37-4e21-886b-d27234d9d31b"
      },
      "execution_count": 64,
      "outputs": [
        {
          "output_type": "execute_result",
          "data": {
            "text/plain": [
              "<matplotlib.image.AxesImage at 0x7fabde090220>"
            ]
          },
          "metadata": {},
          "execution_count": 64
        },
        {
          "output_type": "display_data",
          "data": {
            "text/plain": [
              "<Figure size 640x480 with 1 Axes>"
            ],
            "image/png": "[encoded data removed]"
          },
          "metadata": {}
        }
      ]
    },
    {
      "cell_type": "code",
      "source": [
        "test_img.shape"
      ],
      "metadata": {
        "colab": {
          "base_uri": "https://localhost:8080/"
        },
        "id": "g7vDhfaaqPs3",
        "outputId": "e388daf6-17aa-40ff-e4ff-e140bd4d0edc"
      },
      "execution_count": 65,
      "outputs": [
        {
          "output_type": "execute_result",
          "data": {
            "text/plain": [
              "(103, 82, 3)"
            ]
          },
          "metadata": {},
          "execution_count": 65
        }
      ]
    },
    {
      "cell_type": "code",
      "source": [
        "test_img = cv2.resize(test_img,(256,256))  "
      ],
      "metadata": {
        "id": "bT2bA4blqmTa"
      },
      "execution_count": 66,
      "outputs": []
    },
    {
      "cell_type": "code",
      "source": [
        "test_input = test_img.reshape((1,256,256,3))  "
      ],
      "metadata": {
        "id": "UfsUF3r1qvsf"
      },
      "execution_count": 67,
      "outputs": []
    },
    {
      "cell_type": "code",
      "source": [
        "model.predict(test_input)  "
      ],
      "metadata": {
        "colab": {
          "base_uri": "https://localhost:8080/"
        },
        "id": "T6PspOjqrDrJ",
        "outputId": "0bb1bf06-d9ef-41c6-a1cf-10ffdf89a3cb"
      },
      "execution_count": 68,
      "outputs": [
        {
          "output_type": "stream",
          "name": "stdout",
          "text": [
            "1/1 [==============================] - 0s 303ms/step\n"
          ]
        },
        {
          "output_type": "execute_result",
          "data": {
            "text/plain": [
              "array([[[[0.57374495],\n",
              "         [0.537274  ],\n",
              "         [0.5669554 ],\n",
              "         ...,\n",
              "         [0.52643746],\n",
              "         [0.5434887 ],\n",
              "         [0.53566736]],\n",
              "\n",
              "        [[0.5480107 ],\n",
              "         [0.5302262 ],\n",
              "         [0.53879976],\n",
              "         ...,\n",
              "         [0.4983462 ],\n",
              "         [0.51363593],\n",
              "         [0.54223627]],\n",
              "\n",
              "        [[0.5630733 ],\n",
              "         [0.46879172],\n",
              "         [0.48323643],\n",
              "         ...,\n",
              "         [0.48150766],\n",
              "         [0.49821088],\n",
              "         [0.5420384 ]],\n",
              "\n",
              "        ...,\n",
              "\n",
              "        [[0.43780237],\n",
              "         [0.46262988],\n",
              "         [0.68064255],\n",
              "         ...,\n",
              "         [0.3348963 ],\n",
              "         [0.3354361 ],\n",
              "         [0.35083655]],\n",
              "\n",
              "        [[0.42377436],\n",
              "         [0.5024555 ],\n",
              "         [0.47942668],\n",
              "         ...,\n",
              "         [0.3706522 ],\n",
              "         [0.32455352],\n",
              "         [0.35093257]],\n",
              "\n",
              "        [[0.42459673],\n",
              "         [0.54324263],\n",
              "         [0.50543904],\n",
              "         ...,\n",
              "         [0.32729194],\n",
              "         [0.29940128],\n",
              "         [0.30716497]]]], dtype=float32)"
            ]
          },
          "metadata": {},
          "execution_count": 68
        }
      ]
    }
  ]
}